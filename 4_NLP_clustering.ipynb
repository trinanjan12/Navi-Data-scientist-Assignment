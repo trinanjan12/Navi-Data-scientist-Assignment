{
  "nbformat": 4,
  "nbformat_minor": 0,
  "metadata": {
    "colab": {
      "provenance": []
    },
    "kernelspec": {
      "name": "python3",
      "display_name": "Python 3"
    },
    "language_info": {
      "name": "python"
    }
  },
  "cells": [
    {
      "cell_type": "code",
      "source": [
        "#########\n",
        "# In this notes, I tried to group columns based on KMNEANS\n",
        "# The idea is to find similar columns that are semantically similar\n",
        "# Once we have similar group of columns, We can check each group and figure out which coulmns could be use to create new features\n",
        "# I have uses a sentence embedding model for the feature/column name \n",
        "#########"
      ],
      "metadata": {
        "id": "NdK-YndJZ8jm"
      },
      "execution_count": null,
      "outputs": []
    },
    {
      "cell_type": "code",
      "execution_count": null,
      "metadata": {
        "id": "NvfsLqcAbo7h"
      },
      "outputs": [],
      "source": [
        "all_features_name = ['NEGATIVE EVENTS IN LAST 6 MONTHS (LOANS)',\n",
        " 'AVG. MONTHLY CREDIT TRANSACTIONS AMOUNT LAST 180 DAYS',\n",
        " 'AVG. OF MINIMUM BALANCE PER MONTH LAST 360 DAYS',\n",
        " 'RECHARGES LAST 150-180 DAYS',\n",
        " 'count_debit_transactions_last_360_days',\n",
        " 'CUMULATIVE MAXIMUM BALANCE LAST 30 DAYS',\n",
        " 'RECHARGES WITH RECHARGE AMOUNTS MORE THAN 200 LAST 30-60 DAYS',\n",
        " 'AVG. MONTHLY FIXED LINE BILL AMOUNT LAST 30 DAYS',\n",
        " 'UTILITIES PAYING BILLS FOR',\n",
        " 'LOAN DISBURSEMENT AMOUNT LAST 180 DAYS',\n",
        " 'AVG. MONTHLY DEBIT CARD TRANSACTIONS AMOUNT LAST 180 DAYS',\n",
        " 'AVG. DAILY DEBIT TRANSACTIONS AMOUNT LAST 180 DAYS',\n",
        " 'RECHARGES WITH RECHARGE AMOUNTS RANGING FROM 0 - 50 LAST 30 DAYS',\n",
        " 'CUMULATIVE MINIMUM BALANCE LAST 90 DAYS',\n",
        " 'Last closing balance amount (overall)',\n",
        " 'ATM TRANSACTIONS LIFETIME',\n",
        " 'AVG. MONTHLY DEBIT LAST 30 DAYS BY AVG. MONTHLY DEBIT LAST 90 DAYS',\n",
        " 'FLAG - OTHER LOAN',\n",
        " 'NO OF LOANS CLOSED LAST 12 MONTHS',\n",
        " 'CHEQUES RETURNED DUE TO INSUFFICINT FUND LAST 30 DAYS',\n",
        " 'Loan approved in last 7 days',\n",
        " 'CHEQUES RETURNED DUE TO INSUFFICINT FUND LAST 180 DAYS',\n",
        " 'total_debit_transaction_amount_last_90_days',\n",
        " 'CURRENT LOAN LIABILITY IN THE LAST 3 MONTHS',\n",
        " 'NO OF LOANS DISBURSED LAST 180 DAYS',\n",
        " 'CREDIT APPLICATIONS REJECTED LAST 360 DAYS',\n",
        " 'AVG. DAILY DEBIT LAST 30 DAYS BY AVG. DAILY DEBIT LAST 60-120 DAYS',\n",
        " 'total_debit_transaction_amount_last_360_days',\n",
        " 'RECHARGES WITH RECHARGE AMOUNTS RANGING FROM 50 - 100 LAST 30 DAYS',\n",
        " 'AVG. MONTHLY CREDIT TRANSACTIONS AMOUNT LIFETIME',\n",
        " 'AVG. DAILY DEBIT TRANSACTIONS COUNT LIFETIME',\n",
        " 'TOTAL DEBIT AMOUNT : TOTAL CREDIT AMOUNT RATIO LAST 90 DAYS',\n",
        " 'AVG. MONTHLY BROADBAND BILL AMOUNT LAST 90 DAYS',\n",
        " 'FLAG - GOLD LOAN',\n",
        " 'Loan approved in last 28 days',\n",
        " 'NEFT/RTGS/IMPS TRANSACTIONS LAST 30 DAYS',\n",
        " 'NEFT/RTGS/IMPS TRANSACTIONS LAST 360 DAYS',\n",
        " 'distance_from_pin_code',\n",
        " 'AVG. OF MAXIMUM BALANCE PER MONTH LIFETIME LAST 30 DAYS',\n",
        " 'BELOW MAB PENALTY OCCURANCES LAST 90 DAYS',\n",
        " 'AVG. OF MAXIMUM BALANCE PER MONTH LIFETIME',\n",
        " 'NO OF LOANS CLOSED LAST 6 MONTHS',\n",
        " 'AVG. DAILY CREDIT TRANSACTIONS AMOUNT LIFETIME',\n",
        " 'Loan defaults in last 21 days',\n",
        " 'AVG. MISSED PAYMENT AMOUNT LAST 360 DAYS',\n",
        " 'AVG. MONTHLY POSTPAID BILL AMOUNT LAST 30 DAYS',\n",
        " 'CREDIT APPLICATIONS REJECTED LAST 30 DAYS',\n",
        " 'AVG. CREDIT PER TRANSACTION LAST 30 DAYS',\n",
        " 'AVG. MONTHLY BROADBAND BILL AMOUNT LIFETIME',\n",
        " 'Loan approved in last 14 days']\n",
        "all_features_name = [i.lower().strip() for i in all_features_name]"
      ]
    },
    {
      "cell_type": "code",
      "source": [
        "# !pip install transformers\n",
        "# !pip install sentence_transformers"
      ],
      "metadata": {
        "id": "9KUqLMeOdWh7"
      },
      "execution_count": null,
      "outputs": []
    },
    {
      "cell_type": "code",
      "source": [
        "import transformers as t\n",
        "import torch\n",
        "from sentence_transformers import SentenceTransformer"
      ],
      "metadata": {
        "id": "ancj8WwYiCy_"
      },
      "execution_count": null,
      "outputs": []
    },
    {
      "cell_type": "code",
      "source": [
        "sentences = [\"This is an example sentence\", \"Each sentence is converted\"]\n",
        "model = SentenceTransformer('sentence-transformers/all-MiniLM-L6-v2')\n",
        "embeddings = model.encode(sentences)\n",
        "print(embeddings.shape)"
      ],
      "metadata": {
        "colab": {
          "base_uri": "https://localhost:8080/"
        },
        "id": "o2Z5EAl6hy-U",
        "outputId": "82eacdeb-f9e7-4f22-c9e1-5e9273649b35"
      },
      "execution_count": null,
      "outputs": [
        {
          "output_type": "stream",
          "name": "stdout",
          "text": [
            "(2, 384)\n"
          ]
        }
      ]
    },
    {
      "cell_type": "code",
      "source": [
        "embeddings = model.encode(all_features_name)\n",
        "print(embeddings.shape)"
      ],
      "metadata": {
        "colab": {
          "base_uri": "https://localhost:8080/"
        },
        "id": "sL4w79NrhzAZ",
        "outputId": "0ddc62d7-cc55-4e23-c6fc-facc8567f16c"
      },
      "execution_count": null,
      "outputs": [
        {
          "output_type": "stream",
          "name": "stdout",
          "text": [
            "(50, 384)\n"
          ]
        }
      ]
    },
    {
      "cell_type": "code",
      "source": [
        "from sklearn.cluster import KMeans\n",
        "from matplotlib import pyplot as plt\n",
        "\n",
        "data = embeddings\n",
        "inertias = []\n",
        "\n",
        "for i in range(1,10):\n",
        "    kmeans = KMeans(n_clusters=i)\n",
        "    kmeans.fit(data)\n",
        "    inertias.append(kmeans.inertia_)\n",
        "\n",
        "plt.plot(range(1,10), inertias, marker='o')\n",
        "plt.title('Elbow method')\n",
        "plt.xlabel('Number of clusters')\n",
        "plt.ylabel('Inertia')\n",
        "plt.show()"
      ],
      "metadata": {
        "colab": {
          "base_uri": "https://localhost:8080/",
          "height": 295
        },
        "id": "_o4xzZqlhl3D",
        "outputId": "9c14e729-ee34-412e-9a06-6ab8377b5169"
      },
      "execution_count": null,
      "outputs": [
        {
          "output_type": "display_data",
          "data": {
            "text/plain": [
              "<Figure size 432x288 with 1 Axes>"
            ],
            "image/png": "[encoded data removed]"
          },
          "metadata": {
            "needs_background": "light"
          }
        }
      ]
    },
    {
      "cell_type": "code",
      "source": [
        "kmeans = KMeans(n_clusters=10)\n",
        "kmeans.fit(data)"
      ],
      "metadata": {
        "colab": {
          "base_uri": "https://localhost:8080/"
        },
        "id": "I7sBCwM3jBUP",
        "outputId": "26f7a3b0-180b-4472-a617-260b2989b4cf"
      },
      "execution_count": null,
      "outputs": [
        {
          "output_type": "execute_result",
          "data": {
            "text/plain": [
              "KMeans(n_clusters=10)"
            ]
          },
          "metadata": {},
          "execution_count": 82
        }
      ]
    },
    {
      "cell_type": "code",
      "source": [
        "kmeans.labels_"
      ],
      "metadata": {
        "colab": {
          "base_uri": "https://localhost:8080/"
        },
        "id": "snBmUoUIjqx9",
        "outputId": "a2700618-be1b-4525-8ba3-2fa3ea440608"
      },
      "execution_count": null,
      "outputs": [
        {
          "output_type": "execute_result",
          "data": {
            "text/plain": [
              "array([1, 0, 5, 3, 2, 5, 3, 6, 6, 4, 0, 0, 3, 5, 5, 0, 0, 9, 1, 7, 4, 7,\n",
              "       2, 1, 1, 4, 0, 2, 3, 0, 0, 2, 6, 9, 4, 0, 0, 8, 5, 2, 5, 1, 0, 4,\n",
              "       6, 6, 4, 0, 6, 4], dtype=int32)"
            ]
          },
          "metadata": {},
          "execution_count": 83
        }
      ]
    },
    {
      "cell_type": "code",
      "source": [
        "from collections import defaultdict\n",
        "\n",
        "final_group_dict = defaultdict(list)\n",
        "for index,cluster in enumerate(kmeans.labels_):\n",
        "  final_group_dict[cluster].append(all_features_name[index])"
      ],
      "metadata": {
        "id": "HouxmC46kf20"
      },
      "execution_count": null,
      "outputs": []
    },
    {
      "cell_type": "code",
      "source": [
        "final_group_dict[0]"
      ],
      "metadata": {
        "colab": {
          "base_uri": "https://localhost:8080/"
        },
        "id": "PmlMm-dhjuur",
        "outputId": "e317be16-ac4e-4e18-b682-d12acfdd67ab"
      },
      "execution_count": null,
      "outputs": [
        {
          "output_type": "execute_result",
          "data": {
            "text/plain": [
              "['avg. monthly credit transactions amount last 180 days',\n",
              " 'avg. monthly debit card transactions amount last 180 days',\n",
              " 'avg. daily debit transactions amount last 180 days',\n",
              " 'atm transactions lifetime',\n",
              " 'avg. monthly debit last 30 days by avg. monthly debit last 90 days',\n",
              " 'avg. daily debit last 30 days by avg. daily debit last 60-120 days',\n",
              " 'avg. monthly credit transactions amount lifetime',\n",
              " 'avg. daily debit transactions count lifetime',\n",
              " 'neft/rtgs/imps transactions last 30 days',\n",
              " 'neft/rtgs/imps transactions last 360 days',\n",
              " 'avg. daily credit transactions amount lifetime',\n",
              " 'avg. credit per transaction last 30 days']"
            ]
          },
          "metadata": {},
          "execution_count": 86
        }
      ]
    },
    {
      "cell_type": "code",
      "source": [
        "#########\n",
        "# here if we notice avg. monthly credit transactions amount last 180 days vs avg. monthly debit transactions amount last 180 days could be used as a ratio\n",
        "# to check the user spending habits\n",
        "#########"
      ],
      "metadata": {
        "id": "cJdRDIknkQ5L"
      },
      "execution_count": null,
      "outputs": []
    }
  ]
}