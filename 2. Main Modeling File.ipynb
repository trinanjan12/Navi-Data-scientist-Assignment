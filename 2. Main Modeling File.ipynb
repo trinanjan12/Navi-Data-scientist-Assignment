{
 "cells": [
  {
   "cell_type": "markdown",
   "id": "1534384f",
   "metadata": {},
   "source": [
    "## <span style=\"color:blue\">1. Imports </span>"
   ]
  },
  {
   "cell_type": "code",
   "execution_count": 1,
   "id": "bca70254",
   "metadata": {},
   "outputs": [],
   "source": [
    "import pandas as pd\n",
    "import numpy as np\n",
    "\n",
    "from sklearn.model_selection import train_test_split, cross_val_score, RandomizedSearchCV\n",
    "from sklearn.ensemble import RandomForestClassifier\n",
    "from sklearn import metrics\n",
    "from sklearn.metrics import confusion_matrix, ConfusionMatrixDisplay\n",
    "from imblearn.over_sampling import RandomOverSampler\n",
    "\n",
    "from xgboost import XGBClassifier\n",
    "\n",
    "from matplotlib import pyplot as plt\n",
    "import seaborn as sns\n",
    "\n",
    "import warnings\n",
    "warnings.filterwarnings(\"ignore\")"
   ]
  },
  {
   "cell_type": "markdown",
   "id": "4bc5d671",
   "metadata": {},
   "source": [
    "## <span style=\"color:blue\">2. Load Data </span>"
   ]
  },
  {
   "cell_type": "code",
   "execution_count": 2,
   "id": "74c239ed",
   "metadata": {},
   "outputs": [],
   "source": [
    "# load the data\n",
    "full_df = pd.read_csv('./dataset - v2.csv')\n",
    "\n",
    "# different types of columns/features\n",
    "columns_not_used = [\n",
    "    'decision_id', 'brand', 'carrier', 'device_name', 'gms_version',\n",
    "    'manufacturer', 'network_type', 'screen_height', 'screen_width',\n",
    "    'screen_dpi'\n",
    "]\n",
    "colinear_columns = ['v23', 'v28', 'v30', 'v34', 'v39', 'v42', 'v43', 'v49']\n",
    "very_skewed_columns = ['v8', 'v20', 'v22', 'v26', 'v29', 'v40', 'v47']\n",
    "log_transform_columns = [\n",
    "    'v6',\n",
    "    'v10',\n",
    "    'v11',\n",
    "    'v12',\n",
    "    'v14',\n",
    "    'v15',\n",
    "    'v24',\n",
    "    'v27',\n",
    "    'v32',\n",
    "    'v38',\n",
    "    'v41',\n",
    "    'v45',\n",
    "    'v46',\n",
    "    'v48',\n",
    "]\n",
    "modeling_column = ['label']\n",
    "\n",
    "# final set of columns\n",
    "final_columns = sorted(list(\n",
    "    set(full_df.columns) - set(columns_not_used) - set(colinear_columns) -\n",
    "    set(very_skewed_columns) - set(modeling_column)),\n",
    "                       reverse=True)"
   ]
  },
  {
   "cell_type": "code",
   "execution_count": 3,
   "id": "307f0ba4",
   "metadata": {
    "scrolled": true
   },
   "outputs": [
    {
     "name": "stdout",
     "output_type": "stream",
     "text": [
      "##### total number of training data points ---> 3728\n",
      "##### total number of validation data points ---> 933\n",
      "##### total number of test data points ---> 1585\n"
     ]
    }
   ],
   "source": [
    "##### Create train test split based on the label variable #####\n",
    "train_data = full_df[full_df['label'] == 'modeling']\n",
    "test_data = full_df[full_df['label'] == 'oot']\n",
    "\n",
    "train_data, val_data = train_test_split(train_data,\n",
    "                                        test_size=0.20,\n",
    "                                        random_state=2023)\n",
    "\n",
    "train_data, val_data, test_data = train_data[final_columns], val_data[final_columns], test_data[final_columns]\n",
    "\n",
    "print(\"##### total number of training data points --->\",len(train_data))\n",
    "print(\"##### total number of validation data points --->\",len(val_data))\n",
    "print(\"##### total number of test data points --->\",len(test_data))"
   ]
  },
  {
   "cell_type": "markdown",
   "id": "106030ae",
   "metadata": {},
   "source": [
    "## <span style=\"color:blue\">3. Preprocessing </span>"
   ]
  },
  {
   "cell_type": "markdown",
   "id": "2b147006",
   "metadata": {},
   "source": [
    "### <span style=\"color:blue\">3.1 Imputation and transformation of data </span>"
   ]
  },
  {
   "cell_type": "code",
   "execution_count": 4,
   "id": "cfd99709",
   "metadata": {},
   "outputs": [],
   "source": [
    "# Define a imputation_strategy_dict variable which will have information on columnwise\n",
    "# transformation and inputation strategy\n",
    "\n",
    "imputation_strategy_dict = {}\n",
    "for i in final_columns[:-1]:\n",
    "    imputation_strategy_dict[i] = {\n",
    "        \"impute_strategy\": \"median\",\n",
    "        \"transform\": \"none\"\n",
    "    }\n",
    "\n",
    "for i in log_transform_columns:\n",
    "    imputation_strategy_dict[i] = {\n",
    "        \"impute_strategy\": \"mean\",\n",
    "        \"transform\": \"log\"\n",
    "    }"
   ]
  },
  {
   "cell_type": "code",
   "execution_count": 5,
   "id": "2caa36e5",
   "metadata": {},
   "outputs": [],
   "source": [
    "def impute_data(train_data,val_data,test_data,imputation_strategy_dict):\n",
    "    '''\n",
    "    performs inmputation and transformation on the data\n",
    "    we use imputation value of train data to fill val data, this stops data leakage\n",
    "    \n",
    "    Args:\n",
    "        train_data : train dataframe\n",
    "        val_data : val dataframe\n",
    "        test_data : test dataframe\n",
    "        imputation_strategy_dict : imputation_strategy_dict contains all columns information \n",
    "        \n",
    "    Returns:\n",
    "        train_data,val_data\n",
    "    \n",
    "    '''\n",
    "    for _col in imputation_strategy_dict:\n",
    "        if imputation_strategy_dict[_col]['transform'] == 'log':\n",
    "            train_data[_col] = np.log1p(train_data[_col])\n",
    "            val_data[_col] = np.log1p(val_data[_col])\n",
    "            test_data[_col] = np.log1p(test_data[_col])\n",
    "\n",
    "        if imputation_strategy_dict[_col]['impute_strategy'] == 'median':\n",
    "            train_data_imputation_value = train_data[_col].median()\n",
    "        elif imputation_strategy_dict[_col]['impute_strategy'] == 'mode':\n",
    "            train_data_imputation_value = train_data[_col].mode()\n",
    "        else:\n",
    "            train_data_imputation_value = train_data[_col].mean()\n",
    "        train_data[_col].fillna(value=train_data_imputation_value,\n",
    "                                inplace=True)\n",
    "        val_data[_col].fillna(value=train_data_imputation_value,\n",
    "                                  inplace=True)\n",
    "        test_data[_col].fillna(value=train_data_imputation_value,\n",
    "                                  inplace=True)\n",
    "        \n",
    "    return train_data,val_data,test_data"
   ]
  },
  {
   "cell_type": "code",
   "execution_count": 6,
   "id": "fedb3455",
   "metadata": {},
   "outputs": [],
   "source": [
    "train_data,val_data,test_data = impute_data(train_data,val_data,test_data,imputation_strategy_dict)"
   ]
  },
  {
   "cell_type": "markdown",
   "id": "a36980c7",
   "metadata": {},
   "source": [
    "### <span style=\"color:blue\">3.2. create numpy array of training and val data </span>"
   ]
  },
  {
   "cell_type": "code",
   "execution_count": 7,
   "id": "60229ba8",
   "metadata": {},
   "outputs": [],
   "source": [
    "X_train, y_train = np.array(train_data.iloc[:, :-1].values), np.array(\n",
    "    train_data.iloc[:, -1].values),\n",
    "X_val, y_val = np.array(val_data.iloc[:, :-1].values), np.array(\n",
    "    val_data.iloc[:, -1].values)"
   ]
  },
  {
   "cell_type": "markdown",
   "id": "3ad3a8af",
   "metadata": {},
   "source": [
    "### <span style=\"color:blue\">3.3 oversampling of minority class </span>"
   ]
  },
  {
   "cell_type": "code",
   "execution_count": 8,
   "id": "7730a9d2",
   "metadata": {},
   "outputs": [],
   "source": [
    "ros = RandomOverSampler(sampling_strategy='minority', random_state=2023)\n",
    "X_train_over, y_train_over = ros.fit_resample(X_train, y_train)\n",
    "X_val_over, y_val_over = ros.fit_resample(X_val, y_val)"
   ]
  },
  {
   "cell_type": "markdown",
   "id": "216b702b",
   "metadata": {},
   "source": [
    "## <span style=\"color:blue\">4. Modeling </span>"
   ]
  },
  {
   "cell_type": "markdown",
   "id": "9f783b28",
   "metadata": {},
   "source": [
    "### <span style=\"color:blue\">4.1 Grid search </span>"
   ]
  },
  {
   "cell_type": "code",
   "execution_count": 9,
   "id": "d206ca21",
   "metadata": {},
   "outputs": [
    {
     "name": "stdout",
     "output_type": "stream",
     "text": [
      "{'n_estimators': [10, 20, 30, 40, 50, 60, 70, 80, 90, 100], 'max_features': ['auto', 'sqrt'], 'max_depth': [2, 3, 5, 6, 8, 10], 'min_samples_split': [2, 5, 10, 15, 20], 'min_samples_leaf': [1, 2, 5, 10]}\n"
     ]
    }
   ],
   "source": [
    "##### Random Froest Grid search #####\n",
    "# # Create the param grid\n",
    "# Number of trees in random forest\n",
    "n_estimators = [int(x) for x in np.linspace(start = 10, stop = 100, num = 10)]\n",
    "# Number of features to consider at every split\n",
    "max_features = ['auto', 'sqrt']\n",
    "# Maximum number of levels in tree\n",
    "max_depth = [int(x) for x in np.linspace(2, 10, num = 6)]\n",
    "# max_depth.append(None)\n",
    "# Minimum number of samples required to split a node\n",
    "min_samples_split = [2, 5, 10, 15, 20]\n",
    "# Minimum number of samples required at each leaf node\n",
    "min_samples_leaf = [1, 2, 5, 10]\n",
    "# Method of selecting samples for training each tree\n",
    "bootstrap = [True, False]\n",
    "\n",
    "# Create the random grid\n",
    "param_grid = {'n_estimators': n_estimators,\n",
    "               'max_features': max_features,\n",
    "               'max_depth': max_depth,\n",
    "               'min_samples_split': min_samples_split,\n",
    "               'min_samples_leaf': min_samples_leaf}\n",
    "\n",
    "print(param_grid)"
   ]
  },
  {
   "cell_type": "code",
   "execution_count": 12,
   "id": "4a06f4bf",
   "metadata": {},
   "outputs": [
    {
     "name": "stdout",
     "output_type": "stream",
     "text": [
      "Fitting 10 folds for each of 100 candidates, totalling 1000 fits\n"
     ]
    },
    {
     "name": "stderr",
     "output_type": "stream",
     "text": [
      "/opt/miniconda3/envs/recsys/lib/python3.8/site-packages/sklearn/ensemble/_forest.py:425: FutureWarning: `max_features='auto'` has been deprecated in 1.1 and will be removed in 1.3. To keep the past behaviour, explicitly set `max_features='sqrt'` or remove this parameter as it is also the default value for RandomForestClassifiers and ExtraTreesClassifiers.\n",
      "  warn(\n",
      "/opt/miniconda3/envs/recsys/lib/python3.8/site-packages/sklearn/ensemble/_forest.py:425: FutureWarning: `max_features='auto'` has been deprecated in 1.1 and will be removed in 1.3. To keep the past behaviour, explicitly set `max_features='sqrt'` or remove this parameter as it is also the default value for RandomForestClassifiers and ExtraTreesClassifiers.\n",
      "  warn(\n",
      "/opt/miniconda3/envs/recsys/lib/python3.8/site-packages/sklearn/ensemble/_forest.py:425: FutureWarning: `max_features='auto'` has been deprecated in 1.1 and will be removed in 1.3. To keep the past behaviour, explicitly set `max_features='sqrt'` or remove this parameter as it is also the default value for RandomForestClassifiers and ExtraTreesClassifiers.\n",
      "  warn(\n",
      "/opt/miniconda3/envs/recsys/lib/python3.8/site-packages/sklearn/ensemble/_forest.py:425: FutureWarning: `max_features='auto'` has been deprecated in 1.1 and will be removed in 1.3. To keep the past behaviour, explicitly set `max_features='sqrt'` or remove this parameter as it is also the default value for RandomForestClassifiers and ExtraTreesClassifiers.\n",
      "  warn(\n",
      "/opt/miniconda3/envs/recsys/lib/python3.8/site-packages/sklearn/ensemble/_forest.py:425: FutureWarning: `max_features='auto'` has been deprecated in 1.1 and will be removed in 1.3. To keep the past behaviour, explicitly set `max_features='sqrt'` or remove this parameter as it is also the default value for RandomForestClassifiers and ExtraTreesClassifiers.\n",
      "  warn(\n",
      "/opt/miniconda3/envs/recsys/lib/python3.8/site-packages/sklearn/ensemble/_forest.py:425: FutureWarning: `max_features='auto'` has been deprecated in 1.1 and will be removed in 1.3. To keep the past behaviour, explicitly set `max_features='sqrt'` or remove this parameter as it is also the default value for RandomForestClassifiers and ExtraTreesClassifiers.\n",
      "  warn(\n",
      "/opt/miniconda3/envs/recsys/lib/python3.8/site-packages/sklearn/ensemble/_forest.py:425: FutureWarning: `max_features='auto'` has been deprecated in 1.1 and will be removed in 1.3. To keep the past behaviour, explicitly set `max_features='sqrt'` or remove this parameter as it is also the default value for RandomForestClassifiers and ExtraTreesClassifiers.\n",
      "  warn(\n",
      "/opt/miniconda3/envs/recsys/lib/python3.8/site-packages/sklearn/ensemble/_forest.py:425: FutureWarning: `max_features='auto'` has been deprecated in 1.1 and will be removed in 1.3. To keep the past behaviour, explicitly set `max_features='sqrt'` or remove this parameter as it is also the default value for RandomForestClassifiers and ExtraTreesClassifiers.\n",
      "  warn(\n",
      "/opt/miniconda3/envs/recsys/lib/python3.8/site-packages/sklearn/ensemble/_forest.py:425: FutureWarning: `max_features='auto'` has been deprecated in 1.1 and will be removed in 1.3. To keep the past behaviour, explicitly set `max_features='sqrt'` or remove this parameter as it is also the default value for RandomForestClassifiers and ExtraTreesClassifiers.\n",
      "  warn(\n",
      "/opt/miniconda3/envs/recsys/lib/python3.8/site-packages/sklearn/ensemble/_forest.py:425: FutureWarning: `max_features='auto'` has been deprecated in 1.1 and will be removed in 1.3. To keep the past behaviour, explicitly set `max_features='sqrt'` or remove this parameter as it is also the default value for RandomForestClassifiers and ExtraTreesClassifiers.\n",
      "  warn(\n",
      "/opt/miniconda3/envs/recsys/lib/python3.8/site-packages/sklearn/ensemble/_forest.py:425: FutureWarning: `max_features='auto'` has been deprecated in 1.1 and will be removed in 1.3. To keep the past behaviour, explicitly set `max_features='sqrt'` or remove this parameter as it is also the default value for RandomForestClassifiers and ExtraTreesClassifiers.\n",
      "  warn(\n",
      "/opt/miniconda3/envs/recsys/lib/python3.8/site-packages/sklearn/ensemble/_forest.py:425: FutureWarning: `max_features='auto'` has been deprecated in 1.1 and will be removed in 1.3. To keep the past behaviour, explicitly set `max_features='sqrt'` or remove this parameter as it is also the default value for RandomForestClassifiers and ExtraTreesClassifiers.\n",
      "  warn(\n",
      "/opt/miniconda3/envs/recsys/lib/python3.8/site-packages/sklearn/ensemble/_forest.py:425: FutureWarning: `max_features='auto'` has been deprecated in 1.1 and will be removed in 1.3. To keep the past behaviour, explicitly set `max_features='sqrt'` or remove this parameter as it is also the default value for RandomForestClassifiers and ExtraTreesClassifiers.\n",
      "  warn(\n",
      "/opt/miniconda3/envs/recsys/lib/python3.8/site-packages/sklearn/ensemble/_forest.py:425: FutureWarning: `max_features='auto'` has been deprecated in 1.1 and will be removed in 1.3. To keep the past behaviour, explicitly set `max_features='sqrt'` or remove this parameter as it is also the default value for RandomForestClassifiers and ExtraTreesClassifiers.\n",
      "  warn(\n",
      "/opt/miniconda3/envs/recsys/lib/python3.8/site-packages/sklearn/ensemble/_forest.py:425: FutureWarning: `max_features='auto'` has been deprecated in 1.1 and will be removed in 1.3. To keep the past behaviour, explicitly set `max_features='sqrt'` or remove this parameter as it is also the default value for RandomForestClassifiers and ExtraTreesClassifiers.\n",
      "  warn(\n",
      "/opt/miniconda3/envs/recsys/lib/python3.8/site-packages/sklearn/ensemble/_forest.py:425: FutureWarning: `max_features='auto'` has been deprecated in 1.1 and will be removed in 1.3. To keep the past behaviour, explicitly set `max_features='sqrt'` or remove this parameter as it is also the default value for RandomForestClassifiers and ExtraTreesClassifiers.\n",
      "  warn(\n",
      "/opt/miniconda3/envs/recsys/lib/python3.8/site-packages/sklearn/ensemble/_forest.py:425: FutureWarning: `max_features='auto'` has been deprecated in 1.1 and will be removed in 1.3. To keep the past behaviour, explicitly set `max_features='sqrt'` or remove this parameter as it is also the default value for RandomForestClassifiers and ExtraTreesClassifiers.\n",
      "  warn(\n",
      "/opt/miniconda3/envs/recsys/lib/python3.8/site-packages/sklearn/ensemble/_forest.py:425: FutureWarning: `max_features='auto'` has been deprecated in 1.1 and will be removed in 1.3. To keep the past behaviour, explicitly set `max_features='sqrt'` or remove this parameter as it is also the default value for RandomForestClassifiers and ExtraTreesClassifiers.\n",
      "  warn(\n",
      "/opt/miniconda3/envs/recsys/lib/python3.8/site-packages/sklearn/ensemble/_forest.py:425: FutureWarning: `max_features='auto'` has been deprecated in 1.1 and will be removed in 1.3. To keep the past behaviour, explicitly set `max_features='sqrt'` or remove this parameter as it is also the default value for RandomForestClassifiers and ExtraTreesClassifiers.\n",
      "  warn(\n",
      "/opt/miniconda3/envs/recsys/lib/python3.8/site-packages/sklearn/ensemble/_forest.py:425: FutureWarning: `max_features='auto'` has been deprecated in 1.1 and will be removed in 1.3. To keep the past behaviour, explicitly set `max_features='sqrt'` or remove this parameter as it is also the default value for RandomForestClassifiers and ExtraTreesClassifiers.\n",
      "  warn(\n",
      "/opt/miniconda3/envs/recsys/lib/python3.8/site-packages/sklearn/ensemble/_forest.py:425: FutureWarning: `max_features='auto'` has been deprecated in 1.1 and will be removed in 1.3. To keep the past behaviour, explicitly set `max_features='sqrt'` or remove this parameter as it is also the default value for RandomForestClassifiers and ExtraTreesClassifiers.\n",
      "  warn(\n",
      "/opt/miniconda3/envs/recsys/lib/python3.8/site-packages/sklearn/ensemble/_forest.py:425: FutureWarning: `max_features='auto'` has been deprecated in 1.1 and will be removed in 1.3. To keep the past behaviour, explicitly set `max_features='sqrt'` or remove this parameter as it is also the default value for RandomForestClassifiers and ExtraTreesClassifiers.\n",
      "  warn(\n",
      "/opt/miniconda3/envs/recsys/lib/python3.8/site-packages/sklearn/ensemble/_forest.py:425: FutureWarning: `max_features='auto'` has been deprecated in 1.1 and will be removed in 1.3. To keep the past behaviour, explicitly set `max_features='sqrt'` or remove this parameter as it is also the default value for RandomForestClassifiers and ExtraTreesClassifiers.\n",
      "  warn(\n",
      "/opt/miniconda3/envs/recsys/lib/python3.8/site-packages/sklearn/ensemble/_forest.py:425: FutureWarning: `max_features='auto'` has been deprecated in 1.1 and will be removed in 1.3. To keep the past behaviour, explicitly set `max_features='sqrt'` or remove this parameter as it is also the default value for RandomForestClassifiers and ExtraTreesClassifiers.\n",
      "  warn(\n",
      "/opt/miniconda3/envs/recsys/lib/python3.8/site-packages/sklearn/ensemble/_forest.py:425: FutureWarning: `max_features='auto'` has been deprecated in 1.1 and will be removed in 1.3. To keep the past behaviour, explicitly set `max_features='sqrt'` or remove this parameter as it is also the default value for RandomForestClassifiers and ExtraTreesClassifiers.\n",
      "  warn(\n",
      "/opt/miniconda3/envs/recsys/lib/python3.8/site-packages/sklearn/ensemble/_forest.py:425: FutureWarning: `max_features='auto'` has been deprecated in 1.1 and will be removed in 1.3. To keep the past behaviour, explicitly set `max_features='sqrt'` or remove this parameter as it is also the default value for RandomForestClassifiers and ExtraTreesClassifiers.\n",
      "  warn(\n",
      "/opt/miniconda3/envs/recsys/lib/python3.8/site-packages/sklearn/ensemble/_forest.py:425: FutureWarning: `max_features='auto'` has been deprecated in 1.1 and will be removed in 1.3. To keep the past behaviour, explicitly set `max_features='sqrt'` or remove this parameter as it is also the default value for RandomForestClassifiers and ExtraTreesClassifiers.\n",
      "  warn(\n",
      "/opt/miniconda3/envs/recsys/lib/python3.8/site-packages/sklearn/ensemble/_forest.py:425: FutureWarning: `max_features='auto'` has been deprecated in 1.1 and will be removed in 1.3. To keep the past behaviour, explicitly set `max_features='sqrt'` or remove this parameter as it is also the default value for RandomForestClassifiers and ExtraTreesClassifiers.\n",
      "  warn(\n",
      "/opt/miniconda3/envs/recsys/lib/python3.8/site-packages/sklearn/ensemble/_forest.py:425: FutureWarning: `max_features='auto'` has been deprecated in 1.1 and will be removed in 1.3. To keep the past behaviour, explicitly set `max_features='sqrt'` or remove this parameter as it is also the default value for RandomForestClassifiers and ExtraTreesClassifiers.\n",
      "  warn(\n",
      "/opt/miniconda3/envs/recsys/lib/python3.8/site-packages/sklearn/ensemble/_forest.py:425: FutureWarning: `max_features='auto'` has been deprecated in 1.1 and will be removed in 1.3. To keep the past behaviour, explicitly set `max_features='sqrt'` or remove this parameter as it is also the default value for RandomForestClassifiers and ExtraTreesClassifiers.\n",
      "  warn(\n",
      "/opt/miniconda3/envs/recsys/lib/python3.8/site-packages/sklearn/ensemble/_forest.py:425: FutureWarning: `max_features='auto'` has been deprecated in 1.1 and will be removed in 1.3. To keep the past behaviour, explicitly set `max_features='sqrt'` or remove this parameter as it is also the default value for RandomForestClassifiers and ExtraTreesClassifiers.\n",
      "  warn(\n",
      "/opt/miniconda3/envs/recsys/lib/python3.8/site-packages/sklearn/ensemble/_forest.py:425: FutureWarning: `max_features='auto'` has been deprecated in 1.1 and will be removed in 1.3. To keep the past behaviour, explicitly set `max_features='sqrt'` or remove this parameter as it is also the default value for RandomForestClassifiers and ExtraTreesClassifiers.\n",
      "  warn(\n",
      "/opt/miniconda3/envs/recsys/lib/python3.8/site-packages/sklearn/ensemble/_forest.py:425: FutureWarning: `max_features='auto'` has been deprecated in 1.1 and will be removed in 1.3. To keep the past behaviour, explicitly set `max_features='sqrt'` or remove this parameter as it is also the default value for RandomForestClassifiers and ExtraTreesClassifiers.\n",
      "  warn(\n",
      "/opt/miniconda3/envs/recsys/lib/python3.8/site-packages/sklearn/ensemble/_forest.py:425: FutureWarning: `max_features='auto'` has been deprecated in 1.1 and will be removed in 1.3. To keep the past behaviour, explicitly set `max_features='sqrt'` or remove this parameter as it is also the default value for RandomForestClassifiers and ExtraTreesClassifiers.\n",
      "  warn(\n",
      "/opt/miniconda3/envs/recsys/lib/python3.8/site-packages/sklearn/ensemble/_forest.py:425: FutureWarning: `max_features='auto'` has been deprecated in 1.1 and will be removed in 1.3. To keep the past behaviour, explicitly set `max_features='sqrt'` or remove this parameter as it is also the default value for RandomForestClassifiers and ExtraTreesClassifiers.\n",
      "  warn(\n",
      "/opt/miniconda3/envs/recsys/lib/python3.8/site-packages/sklearn/ensemble/_forest.py:425: FutureWarning: `max_features='auto'` has been deprecated in 1.1 and will be removed in 1.3. To keep the past behaviour, explicitly set `max_features='sqrt'` or remove this parameter as it is also the default value for RandomForestClassifiers and ExtraTreesClassifiers.\n",
      "  warn(\n",
      "/opt/miniconda3/envs/recsys/lib/python3.8/site-packages/sklearn/ensemble/_forest.py:425: FutureWarning: `max_features='auto'` has been deprecated in 1.1 and will be removed in 1.3. To keep the past behaviour, explicitly set `max_features='sqrt'` or remove this parameter as it is also the default value for RandomForestClassifiers and ExtraTreesClassifiers.\n",
      "  warn(\n",
      "/opt/miniconda3/envs/recsys/lib/python3.8/site-packages/sklearn/ensemble/_forest.py:425: FutureWarning: `max_features='auto'` has been deprecated in 1.1 and will be removed in 1.3. To keep the past behaviour, explicitly set `max_features='sqrt'` or remove this parameter as it is also the default value for RandomForestClassifiers and ExtraTreesClassifiers.\n",
      "  warn(\n",
      "/opt/miniconda3/envs/recsys/lib/python3.8/site-packages/sklearn/ensemble/_forest.py:425: FutureWarning: `max_features='auto'` has been deprecated in 1.1 and will be removed in 1.3. To keep the past behaviour, explicitly set `max_features='sqrt'` or remove this parameter as it is also the default value for RandomForestClassifiers and ExtraTreesClassifiers.\n",
      "  warn(\n",
      "/opt/miniconda3/envs/recsys/lib/python3.8/site-packages/sklearn/ensemble/_forest.py:425: FutureWarning: `max_features='auto'` has been deprecated in 1.1 and will be removed in 1.3. To keep the past behaviour, explicitly set `max_features='sqrt'` or remove this parameter as it is also the default value for RandomForestClassifiers and ExtraTreesClassifiers.\n",
      "  warn(\n",
      "/opt/miniconda3/envs/recsys/lib/python3.8/site-packages/sklearn/ensemble/_forest.py:425: FutureWarning: `max_features='auto'` has been deprecated in 1.1 and will be removed in 1.3. To keep the past behaviour, explicitly set `max_features='sqrt'` or remove this parameter as it is also the default value for RandomForestClassifiers and ExtraTreesClassifiers.\n",
      "  warn(\n",
      "/opt/miniconda3/envs/recsys/lib/python3.8/site-packages/sklearn/ensemble/_forest.py:425: FutureWarning: `max_features='auto'` has been deprecated in 1.1 and will be removed in 1.3. To keep the past behaviour, explicitly set `max_features='sqrt'` or remove this parameter as it is also the default value for RandomForestClassifiers and ExtraTreesClassifiers.\n",
      "  warn(\n",
      "/opt/miniconda3/envs/recsys/lib/python3.8/site-packages/sklearn/ensemble/_forest.py:425: FutureWarning: `max_features='auto'` has been deprecated in 1.1 and will be removed in 1.3. To keep the past behaviour, explicitly set `max_features='sqrt'` or remove this parameter as it is also the default value for RandomForestClassifiers and ExtraTreesClassifiers.\n",
      "  warn(\n",
      "/opt/miniconda3/envs/recsys/lib/python3.8/site-packages/sklearn/ensemble/_forest.py:425: FutureWarning: `max_features='auto'` has been deprecated in 1.1 and will be removed in 1.3. To keep the past behaviour, explicitly set `max_features='sqrt'` or remove this parameter as it is also the default value for RandomForestClassifiers and ExtraTreesClassifiers.\n",
      "  warn(\n"
     ]
    },
    {
     "name": "stdout",
     "output_type": "stream",
     "text": [
      "RandomForestClassifier(max_depth=10, max_features='auto', n_estimators=60,\n",
      "                       random_state=2023)\n"
     ]
    }
   ],
   "source": [
    "rf = RandomForestClassifier(criterion='gini', random_state=2023)\n",
    "rand = RandomizedSearchCV(rf,\n",
    "                          param_distributions=param_grid,\n",
    "                          n_jobs=-1,\n",
    "                          cv=10,\n",
    "                          scoring='f1_weighted',\n",
    "                          n_iter=100,\n",
    "                          random_state=2023,\n",
    "                          verbose=True)\n",
    "rand.fit(X_train_over, y_train_over)\n",
    "print(rand.best_estimator_)"
   ]
  },
  {
   "cell_type": "markdown",
   "id": "4bb8e230",
   "metadata": {},
   "source": [
    "### <span style=\"color:blue\">4.2 Best Model fitting </span>"
   ]
  },
  {
   "cell_type": "code",
   "execution_count": 10,
   "id": "36ba647f",
   "metadata": {},
   "outputs": [
    {
     "name": "stdout",
     "output_type": "stream",
     "text": [
      "f1 and auc score on validation data is 0.6201550387596899 0.6616022099447514\n"
     ]
    }
   ],
   "source": [
    "##### Random Froest Classifier #####\n",
    "randomForest = RandomForestClassifier(\n",
    "    class_weight={\n",
    "    0: 0.45,\n",
    "    1: 0.55\n",
    "}, max_depth=5, max_features='auto', n_estimators=20,\n",
    "                       random_state=2023)\n",
    "\n",
    "randomForest.fit(X_train_over, y_train_over)\n",
    "rfPredict = randomForest.predict(X_val_over)\n",
    "rfPredictproba = randomForest.predict_proba(X_val_over)[:, 1]  #for ROC curve\n",
    "rfF1score = metrics.f1_score(y_val_over, rfPredict)\n",
    "roc_score = metrics.roc_auc_score(y_val_over, rfPredict)\n",
    "print('f1 and auc score on validation data is',rfF1score, roc_score)"
   ]
  },
  {
   "cell_type": "markdown",
   "id": "93c067eb",
   "metadata": {},
   "source": [
    "## <span style=\"color:blue\">5. Results </span>"
   ]
  },
  {
   "cell_type": "markdown",
   "id": "2e239d81",
   "metadata": {},
   "source": [
    "### <span style=\"color:blue\">5.1 classification report </span>"
   ]
  },
  {
   "cell_type": "code",
   "execution_count": 11,
   "id": "f7ac4611",
   "metadata": {},
   "outputs": [
    {
     "name": "stdout",
     "output_type": "stream",
     "text": [
      "              precision    recall  f1-score   support\n",
      "\n",
      "         0.0       0.63      0.77      0.69       724\n",
      "         1.0       0.71      0.55      0.62       724\n",
      "\n",
      "    accuracy                           0.66      1448\n",
      "   macro avg       0.67      0.66      0.66      1448\n",
      "weighted avg       0.67      0.66      0.66      1448\n",
      "\n"
     ]
    }
   ],
   "source": [
    "##### classification report ##### \n",
    "print(metrics.classification_report(y_val_over, randomForest.predict(X_val_over)))"
   ]
  },
  {
   "cell_type": "markdown",
   "id": "51b46b74",
   "metadata": {},
   "source": [
    "### <span style=\"color:blue\">5.2 confusion matrix </span>"
   ]
  },
  {
   "cell_type": "code",
   "execution_count": 12,
   "id": "ade91dcc",
   "metadata": {},
   "outputs": [
    {
     "data": {
      "image/png": "[encoded data removed]",
      "text/plain": [
       "<Figure size 640x480 with 2 Axes>"
      ]
     },
     "metadata": {},
     "output_type": "display_data"
    }
   ],
   "source": [
    "##### confusion matrix ##### \n",
    "cm = metrics.confusion_matrix(y_val_over,randomForest.predict(X_val_over), labels=randomForest.classes_)\n",
    "disp = metrics.ConfusionMatrixDisplay(confusion_matrix=cm,\n",
    "                               display_labels=randomForest.classes_)\n",
    "disp.plot()\n",
    "plt.show()"
   ]
  },
  {
   "cell_type": "markdown",
   "id": "1d974985",
   "metadata": {},
   "source": [
    "### <span style=\"color:blue\"> 6. Final prediction on test data</span>"
   ]
  },
  {
   "cell_type": "code",
   "execution_count": 13,
   "id": "a8ee4b56",
   "metadata": {},
   "outputs": [],
   "source": [
    "X_test, _ = np.array(test_data.iloc[:, :-1].values), np.array(\n",
    "    test_data.iloc[:, -1].values)\n",
    "y_test = randomForest.predict(X_test)"
   ]
  },
  {
   "cell_type": "code",
   "execution_count": 14,
   "id": "54b80c31",
   "metadata": {},
   "outputs": [
    {
     "data": {
      "text/html": [
       "<div>\n",
       "<style scoped>\n",
       "    .dataframe tbody tr th:only-of-type {\n",
       "        vertical-align: middle;\n",
       "    }\n",
       "\n",
       "    .dataframe tbody tr th {\n",
       "        vertical-align: top;\n",
       "    }\n",
       "\n",
       "    .dataframe thead th {\n",
       "        text-align: right;\n",
       "    }\n",
       "</style>\n",
       "<table border=\"1\" class=\"dataframe\">\n",
       "  <thead>\n",
       "    <tr style=\"text-align: right;\">\n",
       "      <th></th>\n",
       "      <th>decision_id</th>\n",
       "      <th>probability of default</th>\n",
       "    </tr>\n",
       "  </thead>\n",
       "  <tbody>\n",
       "    <tr>\n",
       "      <th>4661</th>\n",
       "      <td>7a74c817-f036-4214-ade0-e5bfa07fd0fc</td>\n",
       "      <td>1.0</td>\n",
       "    </tr>\n",
       "    <tr>\n",
       "      <th>4662</th>\n",
       "      <td>7ba155b6-ce2c-432e-a717-163acd6306da</td>\n",
       "      <td>1.0</td>\n",
       "    </tr>\n",
       "  </tbody>\n",
       "</table>\n",
       "</div>"
      ],
      "text/plain": [
       "                               decision_id  probability of default\n",
       "4661  7a74c817-f036-4214-ade0-e5bfa07fd0fc                     1.0\n",
       "4662  7ba155b6-ce2c-432e-a717-163acd6306da                     1.0"
      ]
     },
     "execution_count": 14,
     "metadata": {},
     "output_type": "execute_result"
    }
   ],
   "source": [
    "prediciton_df = full_df.iloc[test_data.index][['decision_id']]\n",
    "prediciton_df['probability of default'] = y_test\n",
    "prediciton_df.head(2)"
   ]
  },
  {
   "cell_type": "code",
   "execution_count": 52,
   "id": "e8ab2909",
   "metadata": {},
   "outputs": [
    {
     "data": {
      "text/plain": [
       "0.0    1279\n",
       "1.0     306\n",
       "Name: probability of default, dtype: int64"
      ]
     },
     "execution_count": 52,
     "metadata": {},
     "output_type": "execute_result"
    }
   ],
   "source": [
    "prediciton_df['probability of default'].value_counts()"
   ]
  },
  {
   "cell_type": "code",
   "execution_count": 15,
   "id": "1b580c2b",
   "metadata": {},
   "outputs": [],
   "source": [
    "prediciton_df.to_csv('./prediction.csv')"
   ]
  },
  {
   "cell_type": "code",
   "execution_count": null,
   "id": "17a959cc",
   "metadata": {},
   "outputs": [],
   "source": []
  }
 ],
 "metadata": {
  "kernelspec": {
   "display_name": "recsys",
   "language": "python",
   "name": "recsys"
  },
  "language_info": {
   "codemirror_mode": {
    "name": "ipython",
    "version": 3
   },
   "file_extension": ".py",
   "mimetype": "text/x-python",
   "name": "python",
   "nbconvert_exporter": "python",
   "pygments_lexer": "ipython3",
   "version": "3.8.15"
  },
  "varInspector": {
   "cols": {
    "lenName": 16,
    "lenType": 16,
    "lenVar": 40
   },
   "kernels_config": {
    "python": {
     "delete_cmd_postfix": "",
     "delete_cmd_prefix": "del ",
     "library": "var_list.py",
     "varRefreshCmd": "print(var_dic_list())"
    },
    "r": {
     "delete_cmd_postfix": ") ",
     "delete_cmd_prefix": "rm(",
     "library": "var_list.r",
     "varRefreshCmd": "cat(var_dic_list()) "
    }
   },
   "types_to_exclude": [
    "module",
    "function",
    "builtin_function_or_method",
    "instance",
    "_Feature"
   ],
   "window_display": false
  }
 },
 "nbformat": 4,
 "nbformat_minor": 5
}
